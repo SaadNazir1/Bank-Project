{
  "nbformat": 4,
  "nbformat_minor": 0,
  "metadata": {
    "colab": {
      "provenance": [],
      "authorship_tag": "ABX9TyOZA+8d9h4hqoPLCW+c01f7",
      "include_colab_link": true
    },
    "kernelspec": {
      "name": "python3",
      "display_name": "Python 3"
    },
    "language_info": {
      "name": "python"
    }
  },
  "cells": [
    {
      "cell_type": "markdown",
      "metadata": {
        "id": "view-in-github",
        "colab_type": "text"
      },
      "source": [
        "<a href=\"https://colab.research.google.com/github/SaadNazir1/Bank-Project/blob/main/APC_WPO4.ipynb\" target=\"_parent\"><img src=\"https://colab.research.google.com/assets/colab-badge.svg\" alt=\"Open In Colab\"/></a>"
      ]
    },
    {
      "cell_type": "code",
      "source": [
        "import numpy as np"
      ],
      "metadata": {
        "id": "PJbo7t1sM5pY"
      },
      "execution_count": 1,
      "outputs": []
    },
    {
      "cell_type": "code",
      "execution_count": 3,
      "metadata": {
        "colab": {
          "base_uri": "https://localhost:8080/"
        },
        "id": "YB5enbl0MH06",
        "outputId": "06f79c6c-4a60-4146-88fe-5329e912e90e"
      },
      "outputs": [
        {
          "output_type": "execute_result",
          "data": {
            "text/plain": [
              "[10, 8, 3, 5, 4, 3, 5, 0, 8, 8]"
            ]
          },
          "metadata": {},
          "execution_count": 3
        }
      ],
      "source": [
        "data = [np.random.randint(0,11) for _ in range(10)]\n",
        "data"
      ]
    },
    {
      "cell_type": "code",
      "source": [
        "data2 =[1,2,3,4,5,6,7,8,9,0]\n",
        "result = [(i,j) for i in data for j in data2]\n",
        "result"
      ],
      "metadata": {
        "colab": {
          "base_uri": "https://localhost:8080/"
        },
        "id": "SKYFeMTiNMnw",
        "outputId": "9a4d0606-7e5a-42d5-ad69-acfeb762859f"
      },
      "execution_count": 6,
      "outputs": [
        {
          "output_type": "execute_result",
          "data": {
            "text/plain": [
              "[(10, 1),\n",
              " (10, 2),\n",
              " (10, 3),\n",
              " (10, 4),\n",
              " (10, 5),\n",
              " (10, 6),\n",
              " (10, 7),\n",
              " (10, 8),\n",
              " (10, 9),\n",
              " (10, 0),\n",
              " (8, 1),\n",
              " (8, 2),\n",
              " (8, 3),\n",
              " (8, 4),\n",
              " (8, 5),\n",
              " (8, 6),\n",
              " (8, 7),\n",
              " (8, 8),\n",
              " (8, 9),\n",
              " (8, 0),\n",
              " (3, 1),\n",
              " (3, 2),\n",
              " (3, 3),\n",
              " (3, 4),\n",
              " (3, 5),\n",
              " (3, 6),\n",
              " (3, 7),\n",
              " (3, 8),\n",
              " (3, 9),\n",
              " (3, 0),\n",
              " (5, 1),\n",
              " (5, 2),\n",
              " (5, 3),\n",
              " (5, 4),\n",
              " (5, 5),\n",
              " (5, 6),\n",
              " (5, 7),\n",
              " (5, 8),\n",
              " (5, 9),\n",
              " (5, 0),\n",
              " (4, 1),\n",
              " (4, 2),\n",
              " (4, 3),\n",
              " (4, 4),\n",
              " (4, 5),\n",
              " (4, 6),\n",
              " (4, 7),\n",
              " (4, 8),\n",
              " (4, 9),\n",
              " (4, 0),\n",
              " (3, 1),\n",
              " (3, 2),\n",
              " (3, 3),\n",
              " (3, 4),\n",
              " (3, 5),\n",
              " (3, 6),\n",
              " (3, 7),\n",
              " (3, 8),\n",
              " (3, 9),\n",
              " (3, 0),\n",
              " (5, 1),\n",
              " (5, 2),\n",
              " (5, 3),\n",
              " (5, 4),\n",
              " (5, 5),\n",
              " (5, 6),\n",
              " (5, 7),\n",
              " (5, 8),\n",
              " (5, 9),\n",
              " (5, 0),\n",
              " (0, 1),\n",
              " (0, 2),\n",
              " (0, 3),\n",
              " (0, 4),\n",
              " (0, 5),\n",
              " (0, 6),\n",
              " (0, 7),\n",
              " (0, 8),\n",
              " (0, 9),\n",
              " (0, 0),\n",
              " (8, 1),\n",
              " (8, 2),\n",
              " (8, 3),\n",
              " (8, 4),\n",
              " (8, 5),\n",
              " (8, 6),\n",
              " (8, 7),\n",
              " (8, 8),\n",
              " (8, 9),\n",
              " (8, 0),\n",
              " (8, 1),\n",
              " (8, 2),\n",
              " (8, 3),\n",
              " (8, 4),\n",
              " (8, 5),\n",
              " (8, 6),\n",
              " (8, 7),\n",
              " (8, 8),\n",
              " (8, 9),\n",
              " (8, 0)]"
            ]
          },
          "metadata": {},
          "execution_count": 6
        }
      ]
    },
    {
      "cell_type": "code",
      "source": [
        "result = [(i,j) for i,j in zip(data, data2)]\n",
        "result"
      ],
      "metadata": {
        "colab": {
          "base_uri": "https://localhost:8080/"
        },
        "id": "K9Xc3bOBNqR6",
        "outputId": "266b0bd9-f517-4c59-aea6-40a78a2c9a98"
      },
      "execution_count": 7,
      "outputs": [
        {
          "output_type": "execute_result",
          "data": {
            "text/plain": [
              "[(10, 1),\n",
              " (8, 2),\n",
              " (3, 3),\n",
              " (5, 4),\n",
              " (4, 5),\n",
              " (3, 6),\n",
              " (5, 7),\n",
              " (0, 8),\n",
              " (8, 9),\n",
              " (8, 0)]"
            ]
          },
          "metadata": {},
          "execution_count": 7
        }
      ]
    },
    {
      "cell_type": "markdown",
      "source": [
        "# Reducing"
      ],
      "metadata": {
        "id": "8heLLztPONBD"
      }
    },
    {
      "cell_type": "code",
      "source": [
        "from functools import reduce"
      ],
      "metadata": {
        "id": "GKFEouqVOPvQ"
      },
      "execution_count": 126,
      "outputs": []
    },
    {
      "cell_type": "code",
      "source": [
        "lambda x,y: x+y, data"
      ],
      "metadata": {
        "colab": {
          "base_uri": "https://localhost:8080/"
        },
        "id": "x2XvpgYCP8qr",
        "outputId": "2c18499f-ee4b-476f-d2d7-d6a27a0ecfeb"
      },
      "execution_count": 16,
      "outputs": [
        {
          "output_type": "execute_result",
          "data": {
            "text/plain": [
              "(<function __main__.<lambda>(x, y)>, [10, 8, 3, 5, 4, 3, 5, 0, 8, 8])"
            ]
          },
          "metadata": {},
          "execution_count": 16
        }
      ]
    },
    {
      "cell_type": "code",
      "source": [
        "#1 is the first argument in this case\n",
        "results = reduce(lambda x,y: x+y, data,1)\n",
        "print(f\"The reduction of data using sum is {results}\")"
      ],
      "metadata": {
        "colab": {
          "base_uri": "https://localhost:8080/"
        },
        "id": "W1oFNR2EOXHt",
        "outputId": "e8764e18-86d3-4bba-f64d-fd67e86f9bd3"
      },
      "execution_count": 129,
      "outputs": [
        {
          "output_type": "stream",
          "name": "stdout",
          "text": [
            "The reduction of data using sum is 55\n"
          ]
        }
      ]
    },
    {
      "cell_type": "markdown",
      "source": [
        "# Exercises"
      ],
      "metadata": {
        "id": "rfAonIdURqJV"
      }
    },
    {
      "cell_type": "markdown",
      "source": [
        "Write a program which can map() to make a list whose elements are the squares of:\n",
        "\n",
        "• The elements in [1,2,3,4,5,6,7,8,9,10].\n",
        "\n",
        "• The numbers between 1 and 20 (both included).\n",
        "\n",
        "Hints: Use map() to generate a list and lambda to define anonymous functions."
      ],
      "metadata": {
        "id": "nNjuI_X1Rwqq"
      }
    },
    {
      "cell_type": "code",
      "source": [
        "exercise_result_1 = list(map(lambda x: x**2  ,range(1,11)))\n",
        "print(\"Part 1:\",exercise_result_1)\n",
        "\n",
        "exercise_result_1 = list(map(lambda x: x**2  ,range(1,21)))\n",
        "print(\"Part 2:\",exercise_result_1)"
      ],
      "metadata": {
        "colab": {
          "base_uri": "https://localhost:8080/"
        },
        "id": "MTfiKiI3Rv9P",
        "outputId": "077b8431-ab0d-4968-a152-7973a0089933"
      },
      "execution_count": 33,
      "outputs": [
        {
          "output_type": "stream",
          "name": "stdout",
          "text": [
            "Part 1: [1, 4, 9, 16, 25, 36, 49, 64, 81, 100]\n",
            "Part 2: [1, 4, 9, 16, 25, 36, 49, 64, 81, 100, 121, 144, 169, 196, 225, 256, 289, 324, 361, 400]\n"
          ]
        }
      ]
    },
    {
      "cell_type": "markdown",
      "source": [
        "Write a program which can filter() even numbers in\n",
        "\n",
        "• The list: [1,2,3,4,5,6,7,8,9,10].\n",
        "\n",
        "• The numbers between 1 and 20 (both included).\n",
        "\n",
        "Hints: Use filter() to filter some elements in a list and lambda to define anonymous functions\n"
      ],
      "metadata": {
        "id": "haDxdIGST8Oz"
      }
    },
    {
      "cell_type": "code",
      "source": [
        "the_list =  [1,2,3,4,5,6,7,8,9,10]\n",
        "exercise2 = list(filter(lambda x: x%2==0 , the_list))\n",
        "print(\"Part 1:\",exercise2)\n",
        "exercise2 = list(filter(lambda x:x%2 ==0, range(1,21)))\n",
        "print('Part 2:', exercise2)"
      ],
      "metadata": {
        "colab": {
          "base_uri": "https://localhost:8080/"
        },
        "id": "7Hj1OhkOT-9T",
        "outputId": "dda51771-5448-4622-c9e5-97775521e1ae"
      },
      "execution_count": 36,
      "outputs": [
        {
          "output_type": "stream",
          "name": "stdout",
          "text": [
            "Part 1: [2, 4, 6, 8, 10]\n",
            "Part 2: [2, 4, 6, 8, 10, 12, 14, 16, 18, 20]\n"
          ]
        }
      ]
    },
    {
      "cell_type": "markdown",
      "source": [
        "Write a program which can map() and filter() to make a list whose elements are the squares of:\n",
        "\n",
        "• The even numbers in [1,2,3,4,5,6,7,8,9,10].\n",
        "\n",
        "• The numbers between 1 and 20 (both included).\n",
        "\n",
        "Hints: Use map() to generate a list, filter() to filter elements of a list and lamda to define\n",
        "anonymous functions.\n"
      ],
      "metadata": {
        "id": "MS3l57xwU6PH"
      }
    },
    {
      "cell_type": "code",
      "source": [
        "exercise3 = list(filter(lambda x:x%2==0,map(lambda x:x**2, the_list)))\n",
        "print(\"Part:1\",exercise3)\n",
        "exercise3 = list(filter(lambda x:x%2==0,map(lambda x:x**2, range(1,21))))\n",
        "print(\"Part:2\",exercise3)"
      ],
      "metadata": {
        "colab": {
          "base_uri": "https://localhost:8080/"
        },
        "id": "Zs-dVfNrU_2A",
        "outputId": "0ad28819-3193-4966-eba9-275963c0f348"
      },
      "execution_count": 41,
      "outputs": [
        {
          "output_type": "stream",
          "name": "stdout",
          "text": [
            "Part:1 [4, 16, 36, 64, 100]\n",
            "Part:2 [4, 16, 36, 64, 100, 144, 196, 256, 324, 400]\n"
          ]
        }
      ]
    },
    {
      "cell_type": "markdown",
      "source": [
        "Write a function find longest word() that takes a list of words and returns the length of the\n",
        "longest one."
      ],
      "metadata": {
        "id": "EKOU8SfpWzzn"
      }
    },
    {
      "cell_type": "code",
      "source": [
        "word_list = [\"Elephant\",\"apple\",\"big data\",\"Amazon_river\",\"AI\",\"Country\"]\n",
        "exercise4 = [max(len(word) for word in word_list)]\n",
        "exercise4"
      ],
      "metadata": {
        "colab": {
          "base_uri": "https://localhost:8080/"
        },
        "id": "XC1LBeYZWzgx",
        "outputId": "b52e6d55-dbc1-4351-ad0b-9a9a6c1878e6"
      },
      "execution_count": 66,
      "outputs": [
        {
          "output_type": "execute_result",
          "data": {
            "text/plain": [
              "[12]"
            ]
          },
          "metadata": {},
          "execution_count": 66
        }
      ]
    },
    {
      "cell_type": "markdown",
      "source": [
        "Using filter(), define a function filter long words() that takes a list of words and an integer n\n",
        "and returns the list of words that are longer than n."
      ],
      "metadata": {
        "id": "VcqsWvKSdpPM"
      }
    },
    {
      "cell_type": "code",
      "source": [
        "def filter_words(n):\n",
        "  return list(filter(lambda word: len(word) > n, [word for word in word_list]))\n",
        "\n",
        "print(filter_words(7))"
      ],
      "metadata": {
        "colab": {
          "base_uri": "https://localhost:8080/"
        },
        "id": "gSfoGejWdo9A",
        "outputId": "db4c5a38-5ed9-41f4-fce2-634640ad1ab9"
      },
      "execution_count": 74,
      "outputs": [
        {
          "output_type": "stream",
          "name": "stdout",
          "text": [
            "['Elephant', 'big data', 'Amazon_river']\n"
          ]
        }
      ]
    },
    {
      "cell_type": "markdown",
      "source": [
        "Represent a small bilingual lexicon as a Python dictionary in the following fashion\n",
        "“merry”:“god”, “christmas”:“jul”, “and”:“och”, “happy”:“gott”, “new”:“nytt”, “year”:“ar” and\n",
        "use it to translate your Christmas cards from English into Swedish.\n",
        "\n",
        "Use map() to write a function translate() that takes a list of English words and returns a list of Swedish words"
      ],
      "metadata": {
        "id": "jjjcGZfFfimu"
      }
    },
    {
      "cell_type": "code",
      "source": [
        "bilingual_lexicon = {\"city\":\"shair\",\n",
        "                     \"water\":\"pani\" ,\n",
        "                     \"river\":\"darya\",\n",
        "                     \"sea\":\"sumandar\",\n",
        "                     \"mountains\":\"pahar\",\n",
        "                     \"people\":\"log\",\n",
        "                     \"boy\":\"larka\",\n",
        "                     \"girl\" : \"larki\",\n",
        "                     \"bread\" : \"roti\"\n",
        "                     }\n",
        "\n",
        "def translate(english_list):\n",
        "    return [bilingual_lexicon[word] for word in english_list if word in bilingual_lexicon]\n",
        "\n",
        "exercise6 = translate([\"city\",\"girl\",\"sea\"]) # passing english word as a list to get urdu words from dictoinary\n",
        "exercise6\n"
      ],
      "metadata": {
        "colab": {
          "base_uri": "https://localhost:8080/"
        },
        "id": "ZRtOkrZ1fnxA",
        "outputId": "be7d9b73-1eec-44cc-edb2-7ed530e50ca4"
      },
      "execution_count": 95,
      "outputs": [
        {
          "output_type": "execute_result",
          "data": {
            "text/plain": [
              "['shair', 'larki', 'sumandar']"
            ]
          },
          "metadata": {},
          "execution_count": 95
        }
      ]
    },
    {
      "cell_type": "markdown",
      "source": [
        "Write a program that maps a list of words into a list of integers representing the lengths of the\n",
        "corresponding words. Write it in three different ways:\n",
        "\n",
        "• Using a for-loop.\n",
        "\n",
        "• Using map().\n",
        "\n",
        "• Using list comprehension"
      ],
      "metadata": {
        "id": "YNNXUl4ik45G"
      }
    },
    {
      "cell_type": "code",
      "source": [
        "num_list = [1,2,3,4,5,6,7,8,9,10]\n",
        "word_list = ['one','two','three','four','five','six','seven','eigth','nine','ten']\n",
        "for num,word in zip(num_list,word_list):\n",
        "    print(num,word)"
      ],
      "metadata": {
        "colab": {
          "base_uri": "https://localhost:8080/"
        },
        "id": "5w4Le7ABk4bw",
        "outputId": "1d261a98-f489-4fc6-fe59-16086657f1f2"
      },
      "execution_count": 111,
      "outputs": [
        {
          "output_type": "stream",
          "name": "stdout",
          "text": [
            "1 one\n",
            "2 two\n",
            "3 three\n",
            "4 four\n",
            "5 five\n",
            "6 six\n",
            "7 seven\n",
            "8 eigth\n",
            "9 nine\n",
            "10 ten\n"
          ]
        }
      ]
    },
    {
      "cell_type": "code",
      "source": [
        "print(list(map(lambda num:num, zip(num_list,word_list))))"
      ],
      "metadata": {
        "colab": {
          "base_uri": "https://localhost:8080/"
        },
        "id": "fULFTeZCnq4l",
        "outputId": "d908855a-a366-4e1d-dceb-7d5af14e2dbe"
      },
      "execution_count": 119,
      "outputs": [
        {
          "output_type": "stream",
          "name": "stdout",
          "text": [
            "[(1, 'one'), (2, 'two'), (3, 'three'), (4, 'four'), (5, 'five'), (6, 'six'), (7, 'seven'), (8, 'eigth'), (9, 'nine'), (10, 'ten')]\n"
          ]
        }
      ]
    },
    {
      "cell_type": "code",
      "source": [
        "exercise7 = [(word,num) for word, num in zip(word_list,num_list)]\n",
        "exercise7"
      ],
      "metadata": {
        "colab": {
          "base_uri": "https://localhost:8080/"
        },
        "id": "s7aMJSv5mxKI",
        "outputId": "1c328b31-0da8-4d32-d0ff-0cec33c0534c"
      },
      "execution_count": 106,
      "outputs": [
        {
          "output_type": "execute_result",
          "data": {
            "text/plain": [
              "[('one', 1),\n",
              " ('two', 2),\n",
              " ('three', 3),\n",
              " ('four', 4),\n",
              " ('five', 5),\n",
              " ('six', 6),\n",
              " ('seven', 7),\n",
              " ('eigth', 8),\n",
              " ('nine', 9),\n",
              " ('ten', 10)]"
            ]
          },
          "metadata": {},
          "execution_count": 106
        }
      ]
    },
    {
      "cell_type": "markdown",
      "source": [
        "Using reduce(), write a function max in list() that takes a list of numbers and returns the\n",
        "largest one.\n",
        "Then ask yourself: why define and call a new function, when I can just as well call\n",
        "reduce() directly?"
      ],
      "metadata": {
        "id": "mMeASUtOqSFu"
      }
    },
    {
      "cell_type": "code",
      "source": [
        "def max_list(input_list):\n",
        "  largest = 0\n",
        "  for num in input_list:\n",
        "    if num >largest:\n",
        "      largest = num\n",
        "  return largest\n",
        "\n",
        "large = max_list(num_list)\n",
        "large"
      ],
      "metadata": {
        "colab": {
          "base_uri": "https://localhost:8080/"
        },
        "id": "4Sy2_H-eqVe_",
        "outputId": "9f8f7dfc-3bc3-41fd-a12c-f82332e9525b"
      },
      "execution_count": 120,
      "outputs": [
        {
          "output_type": "execute_result",
          "data": {
            "text/plain": [
              "10"
            ]
          },
          "metadata": {},
          "execution_count": 120
        }
      ]
    },
    {
      "cell_type": "code",
      "source": [
        "numbers= [44,22,11,2,100,7]\n",
        "r = reduce(lambda x,y:max(x,y), numbers)\n",
        "r"
      ],
      "metadata": {
        "colab": {
          "base_uri": "https://localhost:8080/"
        },
        "id": "XCGSOcL5sN8J",
        "outputId": "43522391-a276-4007-c720-3110b28f0db8"
      },
      "execution_count": 138,
      "outputs": [
        {
          "output_type": "execute_result",
          "data": {
            "text/plain": [
              "100"
            ]
          },
          "metadata": {},
          "execution_count": 138
        }
      ]
    }
  ]
}